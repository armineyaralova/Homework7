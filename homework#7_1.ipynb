{
 "cells": [
  {
   "cell_type": "code",
   "execution_count": 19,
   "metadata": {
    "collapsed": true
   },
   "outputs": [],
   "source": [
    "from selenium import webdriver\n",
    "browser = webdriver.Chrome()\n",
    "url = \"http://rate.am/en/armenian-dram-exchange-rates/banks/non-cash\"\n",
    "browser.get(url)"
   ]
  },
  {
   "cell_type": "code",
   "execution_count": 32,
   "metadata": {
    "collapsed": true
   },
   "outputs": [],
   "source": [
    "data=browser.find_element_by_xpath('//*[@id=\"aspnetForm\"]/div[3]/div[2]/div[1]/div[4]/div[3]/table/tbody/tr/td[1]/a')\n",
    "data.click()"
   ]
  },
  {
   "cell_type": "code",
   "execution_count": 33,
   "metadata": {
    "collapsed": true
   },
   "outputs": [],
   "source": [
    "rates_20=browser.find_element_by_xpath('//*[@id=\"calBorder\"]/span/table/tbody/tr[3]/td/table/tbody/tr[5]/td[4]')\n",
    "rates_20.click()"
   ]
  },
  {
   "cell_type": "code",
   "execution_count": 34,
   "metadata": {
    "collapsed": true
   },
   "outputs": [],
   "source": [
    "rate_show=browser.find_element_by_xpath('//*[@id=\"ctl00_Content_RB_dtpick1_btnOk\"]')\n",
    "rate_show.click()"
   ]
  },
  {
   "cell_type": "code",
   "execution_count": 35,
   "metadata": {
    "collapsed": true
   },
   "outputs": [],
   "source": [
    "import pandas as pd\n",
    "import csv\n",
    "from unicodecsv import*"
   ]
  },
  {
   "cell_type": "code",
   "execution_count": 42,
   "metadata": {
    "collapsed": true
   },
   "outputs": [],
   "source": [
    "table = pd.read_html(browser.find_element_by_class_name(\"rb\").get_attribute('outerHTML'))"
   ]
  },
  {
   "cell_type": "code",
   "execution_count": 43,
   "metadata": {
    "collapsed": true
   },
   "outputs": [],
   "source": [
    "table = table[0]\n",
    "table = table[2:19] \n",
    "del table[0]\n",
    "del table[2]\n",
    "del table[3]    \n",
    "table.columns = [\"Bank\", \"Date\", \"USDbuy\", \"USDsell\", \"EURbuy\", \"EURsell\", \"RUBbuy\", \"RUBsell\", \"GBFbuy\", \"GBFsell\"]"
   ]
  },
  {
   "cell_type": "code",
   "execution_count": 44,
   "metadata": {
    "collapsed": true
   },
   "outputs": [],
   "source": [
    "with open('data_rates.csv', 'w') as f:\n",
    "            table.to_csv(f, header=True, index=False, encoding='utf-8')"
   ]
  },
  {
   "cell_type": "code",
   "execution_count": 45,
   "metadata": {
    "collapsed": true
   },
   "outputs": [],
   "source": [
    "browser.close()"
   ]
  }
 ],
 "metadata": {
  "kernelspec": {
   "display_name": "Python 2",
   "language": "python",
   "name": "python2"
  },
  "language_info": {
   "codemirror_mode": {
    "name": "ipython",
    "version": 2
   },
   "file_extension": ".py",
   "mimetype": "text/x-python",
   "name": "python",
   "nbconvert_exporter": "python",
   "pygments_lexer": "ipython2",
   "version": "2.7.13"
  }
 },
 "nbformat": 4,
 "nbformat_minor": 2
}
